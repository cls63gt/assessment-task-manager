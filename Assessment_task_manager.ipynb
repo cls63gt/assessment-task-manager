{
 "cells": [
  {
   "cell_type": "code",
   "execution_count": 9,
   "id": "47a866b5-074b-42aa-befb-96004263f9ed",
   "metadata": {},
   "outputs": [],
   "source": [
    "import hashlib\n",
    "import os \n",
    "import json"
   ]
  },
  {
   "cell_type": "code",
   "execution_count": 11,
   "id": "2b55fb97-1672-4b3e-83e9-0ac50ee7aa0b",
   "metadata": {},
   "outputs": [],
   "source": [
    "#directory to store user data\n",
    "USER_DATA_DIR = \"user_data\"\n",
    "if not os.path.exists(USER_DATA_DIR):\n",
    "    os.makedirs(USER_DATA_DIR)"
   ]
  },
  {
   "cell_type": "code",
   "execution_count": 13,
   "id": "835d4afd-23c1-45f2-b296-69162ece46aa",
   "metadata": {},
   "outputs": [],
   "source": [
    "#helper function to hash passwords\n",
    "def hash_password(password):\n",
    "    return hashlib.sha256(password.encode()).hexigest()"
   ]
  },
  {
   "cell_type": "code",
   "execution_count": 15,
   "id": "86fb8f32-9f54-4326-8ce4-a10fb0b90576",
   "metadata": {},
   "outputs": [],
   "source": [
    "#user registration fucstion\n",
    "def register():\n",
    "    username = input(\"Enter a username: \")\n",
    "    password = input(\"Enter a password: \")\n",
    "    user_file = os.path.join(USER_DATA_DIR, f\"{username}.json\")\n",
    "    if os.path.exists(user_file):\n",
    "        print(\"Username already exists. Please try another.\")\n",
    "        return False"
   ]
  },
  {
   "cell_type": "code",
   "execution_count": 17,
   "id": "dbfb82ca-7062-483e-b4b1-0b47a24c77bb",
   "metadata": {},
   "outputs": [],
   "source": [
    "#user login function\n",
    "def login():\n",
    "    username = input(\"Enter a username: \")\n",
    "    password = input(\"Enter a password: \")\n",
    "    user_file = os.path.join(USER_DATA_DIR, f\"{username}.json\")\n",
    "    if not os.path.exists(user_file):\n",
    "        print(\"Username not found.\")\n",
    "        return None\n",
    "    with open(user_file, \"r\") as file:\n",
    "        user_data = json.load(file)\n",
    "    if user_data[\"password\"] == hash_password(password):\n",
    "        print(\"Login successful!\")\n",
    "        return username\n",
    "    else:\n",
    "        print(\"incorrect password.\")\n",
    "        return None"
   ]
  },
  {
   "cell_type": "code",
   "execution_count": 23,
   "id": "ac9bbc63-3ebd-4681-926d-8b76f8003523",
   "metadata": {},
   "outputs": [
    {
     "name": "stdout",
     "output_type": "stream",
     "text": [
      "Task added successfully!\n"
     ]
    }
   ],
   "source": [
    "#function to add a task\n",
    "def  add_task(username):\n",
    "    task_description = input(\"Enter task description: \")\n",
    "    user_file = os.path.join(USER_DATA_DIR, f\"{username}.json\")\n",
    "    with open(user_file, \"r\") as file:\n",
    "        user_data = json.load(file)\n",
    "    task_id = len(user_data[\"task\"]) + 1\n",
    "    task = {\"id\": task_id, \"description\": task_description, \"status\": \"Pending\"}\n",
    "    user_data[\"tasks\"].append(task)\n",
    "\n",
    "    with open(user_file, \"w\") as file:\n",
    "        json.dump(user_data, file)\n",
    "\n",
    "print(\"Task added successfully!\")"
   ]
  },
  {
   "cell_type": "code",
   "execution_count": 25,
   "id": "5ded6279-92d5-49ef-877b-8ab2b416fd96",
   "metadata": {},
   "outputs": [],
   "source": [
    "#function to view tasks\n",
    "def view_tasks(username):\n",
    "    user_file = os.path.join(USER_DATA_DIR, f\"{username}.json\")\n",
    "    with open(user_file, \"r\") as file:\n",
    "        user_data = json.load(file)\n",
    "    print(\"Your Tasks:\")\n",
    "    for task in user_data[\"tasks\"]:\n",
    "        print(f\"ID: {task['id']} | Description: {task['description']} | Status: {task['status']}\")"
   ]
  },
  {
   "cell_type": "code",
   "execution_count": 27,
   "id": "8d6dc599-2ec8-4ff8-84f2-eec8d6527f50",
   "metadata": {},
   "outputs": [],
   "source": [
    "#function to mark a task as completed\n",
    "def comlete_task(username):\n",
    "    view_tasks(username)\n",
    "    task_id = int(input(\"Enter the task ID to mark as completed: \"))\n",
    "    user_file = os.path.join(USER_DATA_DIR, f\"{usernam}.json\")\n",
    "    with open(user_file, \"r\") as file:\n",
    "        user_date = json.load(file)\n",
    "    for task in user_data[\"tasks\"]:\n",
    "        if task[\"id\"] == task_id:\n",
    "            task[\"status\"] = \"Completed\"\n",
    "            print(\"Task marked as completed.\")\n",
    "            break\n",
    "        else:\n",
    "            print(\"Task ID not found.\")\n",
    "        with open(user_file, \"w\") as file:\n",
    "            json.dump(user_data, file)"
   ]
  },
  {
   "cell_type": "code",
   "execution_count": 29,
   "id": "0f8e9f54-15e0-48d0-b7f7-a05968ae207e",
   "metadata": {},
   "outputs": [],
   "source": [
    "#Function to delete a task\n",
    "def delete_task(username):\n",
    "    view_tasks(username)\n",
    "    task_id = int(input(\"Enter the task ID to delete: \"))\n",
    "\n",
    "    user_file = os.path.join(USER_DATA_DIR, f\"{username}.json\")\n",
    "    with open(user_file, \"r\") as file:\n",
    "        user_data = json.load(file)\n",
    "\n",
    "    user_data[\"task\"] = [task for task in user_data[\"tasks\"] if task[\"id\"] != task_id]\n",
    "    print(\"Task deleted successfully.\")\n",
    "\n",
    "    with open(user_file, \"w\") as file:\n",
    "        json.dump(user_data, file)"
   ]
  },
  {
   "cell_type": "code",
   "execution_count": 31,
   "id": "a5539c89-f65e-41bb-bb5c-739e5250a694",
   "metadata": {},
   "outputs": [],
   "source": [
    "#main menu function\n",
    "def menu(username):\n",
    "    while True:\n",
    "        print(\"\\nMenu:\")\n",
    "        print(\"1. Add Tasks\")\n",
    "        print(\"2. View Tasks\")\n",
    "        print(\"3. Mark Task as Completed\")\n",
    "        print(\"4. Delete Task\")\n",
    "        print(\"5. Logout\")\n",
    "\n",
    "        choice = input(\"Enter your choice: \")\n",
    "        if choice == '1':\n",
    "            add_task(username)\n",
    "        elif choice == '2':\n",
    "            view_tasks(username)\n",
    "        elif choice == '3':\n",
    "            complete_task(username)\n",
    "        elif choice == '4':\n",
    "            delete_task(username)\n",
    "        elif choice == '5':\n",
    "            print(\"Logging out...\")\n",
    "            break\n",
    "        else:\n",
    "            print(\"Invalid choice. Please try again:\")"
   ]
  },
  {
   "cell_type": "code",
   "execution_count": 33,
   "id": "bdd90859-bb15-4cc4-bd47-c3a896871a9d",
   "metadata": {},
   "outputs": [],
   "source": [
    "#main program loop \n",
    "def main():\n",
    "    while True:\n",
    "        print(\"nWelcome to Task Manager\")\n",
    "        print(\"1. Rigister\")\n",
    "        print(\"2. Login\")\n",
    "        print(\"3. Exit\")\n",
    "\n",
    "        choice =  input(\"Enter your choice: \")\n",
    "        if choice == '1':\n",
    "            register()\n",
    "        elif choice == '2':\n",
    "            username = login()\n",
    "            if username:\n",
    "                menu(username)\n",
    "        elif choice == '3':\n",
    "            print(\"Exiting program.\")\n",
    "            break\n",
    "        else:\n",
    "            print(\"Invalid choice. Please try again.\")\n",
    "        "
   ]
  },
  {
   "cell_type": "code",
   "execution_count": 35,
   "id": "c49ce91b-5e6b-40e0-952a-998eb05fa34a",
   "metadata": {},
   "outputs": [
    {
     "name": "stdout",
     "output_type": "stream",
     "text": [
      "nWelcome to Task Manager\n",
      "1. Rigister\n",
      "2. Login\n",
      "3. Exit\n"
     ]
    },
    {
     "name": "stdin",
     "output_type": "stream",
     "text": [
      "Enter your choice:  1\n",
      "Enter a username:  cls63\n",
      "Enter a password:  password\n"
     ]
    },
    {
     "name": "stdout",
     "output_type": "stream",
     "text": [
      "nWelcome to Task Manager\n",
      "1. Rigister\n",
      "2. Login\n",
      "3. Exit\n"
     ]
    },
    {
     "name": "stdin",
     "output_type": "stream",
     "text": [
      "Enter your choice:  2\n",
      "Enter a username:  cls63\n",
      "Enter a password:  password\n"
     ]
    },
    {
     "name": "stdout",
     "output_type": "stream",
     "text": [
      "Username not found.\n",
      "nWelcome to Task Manager\n",
      "1. Rigister\n",
      "2. Login\n",
      "3. Exit\n"
     ]
    },
    {
     "name": "stdin",
     "output_type": "stream",
     "text": [
      "Enter your choice:  3\n"
     ]
    },
    {
     "name": "stdout",
     "output_type": "stream",
     "text": [
      "Exiting program.\n"
     ]
    }
   ],
   "source": [
    "main()"
   ]
  },
  {
   "cell_type": "code",
   "execution_count": null,
   "id": "54750883-9d67-4552-b82f-dfa7ec8e609d",
   "metadata": {},
   "outputs": [],
   "source": []
  }
 ],
 "metadata": {
  "kernelspec": {
   "display_name": "Python 3 (ipykernel)",
   "language": "python",
   "name": "python3"
  },
  "language_info": {
   "codemirror_mode": {
    "name": "ipython",
    "version": 3
   },
   "file_extension": ".py",
   "mimetype": "text/x-python",
   "name": "python",
   "nbconvert_exporter": "python",
   "pygments_lexer": "ipython3",
   "version": "3.12.4"
  }
 },
 "nbformat": 4,
 "nbformat_minor": 5
}
